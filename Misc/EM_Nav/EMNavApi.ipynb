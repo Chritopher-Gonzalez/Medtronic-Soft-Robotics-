{
 "cells": [
  {
   "cell_type": "markdown",
   "id": "38df3317",
   "metadata": {},
   "source": [
    "---\n",
    "# Medtronic(Soft Robotics)\n",
    "# MCEN 4045, Fall 2021\n",
    "# Tuesday November 16, 2021"
   ]
  },
  {
   "cell_type": "markdown",
   "id": "08f1e8b8",
   "metadata": {},
   "source": [
    "The following command downloads the NDI Combined API C Interface Library from PyPi with out the need to complie the github repo found here: https://github.com/PlusToolkit/ndicapi"
   ]
  },
  {
   "cell_type": "code",
   "execution_count": 17,
   "id": "98051c1f",
   "metadata": {},
   "outputs": [
    {
     "name": "stdout",
     "output_type": "stream",
     "text": [
      "Requirement already satisfied: ndicapi in c:\\users\\chgo7806exc\\anaconda3\\lib\\site-packages (3.2.8)\n"
     ]
    }
   ],
   "source": [
    "!pip install ndicapi"
   ]
  },
  {
   "cell_type": "markdown",
   "id": "5e7c02e6",
   "metadata": {},
   "source": [
    "---\n",
    "## Library import\n",
    "We are referencing the code we found in the repo\n",
    "secret sauce: https://github.com/PlusToolkit/ndicapi/blob/master/Applications/ndiBasicExample.py"
   ]
  },
  {
   "cell_type": "code",
   "execution_count": 18,
   "id": "4b5f6298",
   "metadata": {},
   "outputs": [],
   "source": [
    "import ndicapy # import is strange"
   ]
  },
  {
   "cell_type": "code",
   "execution_count": 19,
   "id": "dc13901e",
   "metadata": {},
   "outputs": [],
   "source": [
    "from ndicapy import (\n",
    "    ndiDeviceName, ndiProbe, NDI_OKAY,\n",
    "    ndiOpen, ndiClose, ndiCommand, ndiGetError,\n",
    "    ndiErrorString, NDI_115200,\n",
    "    NDI_8N1, NDI_NOHANDSHAKE,\n",
    ")"
   ]
  },
  {
   "cell_type": "code",
   "execution_count": 24,
   "id": "301dfd90",
   "metadata": {},
   "outputs": [],
   "source": [
    "from IPython.display import clear_output"
   ]
  },
  {
   "cell_type": "markdown",
   "id": "75306680",
   "metadata": {},
   "source": [
    "--- \n",
    "## Port Setup"
   ]
  },
  {
   "cell_type": "code",
   "execution_count": 20,
   "id": "63ac35b4",
   "metadata": {},
   "outputs": [
    {
     "name": "stdout",
     "output_type": "stream",
     "text": [
      "2\n"
     ]
    }
   ],
   "source": [
    "# Number ports to check\n",
    "MAX_SERIAL_PORTS = 20\n",
    "\n",
    "name = ''\n",
    "for port_no in range(MAX_SERIAL_PORTS):\n",
    "    name = ndiDeviceName(port_no)\n",
    "    \n",
    "    if not name:\n",
    "        continue\n",
    "        \n",
    "    result = ndiProbe(name) #Returns 257 if port not found, otherwise returns 1\n",
    "    \n",
    "    if result == NDI_OKAY: #NDI_OKAY == 0\n",
    "        print(port_no)\n",
    "        break\n",
    "        \n",
    "if result != NDI_OKAY:\n",
    "    raise IOError(\n",
    "        'Could not find any NDI device in '\n",
    "        '{} serial port candidates checked. '\n",
    "        'Please check the following:\\n'\n",
    "        '\\t1) Is an NDI device connected to your computer?\\n'\n",
    "        '\\t2) Is the NDI device switched on?\\n'\n",
    "        '\\t3) Do you have sufficient privilege to connect to '\n",
    "        'the device? (e.g. on Linux are you part of the \"dialout\" '\n",
    "        'group?)'.format(MAX_SERIAL_PORTS)\n",
    "    )"
   ]
  },
  {
   "cell_type": "markdown",
   "id": "c2455d1e",
   "metadata": {},
   "source": [
    "--- \n",
    "## Device Setup"
   ]
  },
  {
   "cell_type": "code",
   "execution_count": 21,
   "id": "a0127ec5",
   "metadata": {},
   "outputs": [
    {
     "name": "stdout",
     "output_type": "stream",
     "text": [
      "<polaris object 000001CA5C6C4BF0, COM3>\n"
     ]
    }
   ],
   "source": [
    "device = ndiOpen(name) #seems like this command starts communication for API \n",
    "if not device:\n",
    "    raise IOError(\n",
    "        'Could not connect to NDI device found on '\n",
    "        '{}'.format(name)\n",
    "    )\n",
    "print(device)"
   ]
  },
  {
   "cell_type": "markdown",
   "id": "4d69c5c3",
   "metadata": {},
   "source": [
    "--- \n",
    "## Command Send Check"
   ]
  },
  {
   "cell_type": "code",
   "execution_count": 22,
   "id": "3fd74e5b",
   "metadata": {},
   "outputs": [
    {
     "name": "stdout",
     "output_type": "stream",
     "text": [
      "OKAY\n"
     ]
    }
   ],
   "source": [
    "#Ensures the system configuuration was determine successfully\n",
    "reply = ndiCommand(device, 'INIT:') \n",
    "error = ndiGetError(device)\n",
    "if reply.startswith('ERROR') or error != NDI_OKAY:\n",
    "    raise IOError(\n",
    "        'Error when sending command: '\n",
    "        '{}'.format(ndiErrorString(error))\n",
    "    )\n",
    "print(reply)"
   ]
  },
  {
   "cell_type": "code",
   "execution_count": 23,
   "id": "bfe73d38",
   "metadata": {},
   "outputs": [
    {
     "name": "stdout",
     "output_type": "stream",
     "text": [
      "OKAY\n"
     ]
    }
   ],
   "source": [
    "# Sets serial communication settings\n",
    "reply = ndiCommand(\n",
    "    device,\n",
    "    'COMM:{:d}{:03d}{:d}'.format(NDI_115200, NDI_8N1, NDI_NOHANDSHAKE)\n",
    ")\n",
    "print(reply)"
   ]
  },
  {
   "cell_type": "markdown",
   "id": "64ccda59",
   "metadata": {},
   "source": [
    "--- \n",
    "## Insert Commands HERE\n",
    "\n",
    "Sensor part #:610059 T6F0-L00054\n",
    "\n",
    "Puck Part# : 610066 T6D0-S00914\n",
    "$\\therefore$"
   ]
  },
  {
   "cell_type": "code",
   "execution_count": 25,
   "id": "5df73875",
   "metadata": {
    "scrolled": true
   },
   "outputs": [
    {
     "name": "stdout",
     "output_type": "stream",
     "text": [
      "0A\n",
      "Success:\n",
      "610059   T6F0-L00054\n",
      "0B\n",
      "Success:\n",
      "610066   T6D0-S00914\n"
     ]
    }
   ],
   "source": [
    "num_setup_complete = 0\n",
    "while(num_setup_complete < 2):\n",
    "    To_Free = ndiCommand(device, 'PHSR:01')\n",
    "\n",
    "    if(To_Free == '00'):\n",
    "        To_Initialized = ndiCommand(device, 'PHSR:02')\n",
    "\n",
    "        if(To_Initialized == '00'):\n",
    "            To_enable = ndiCommand(device, 'PHSR:03')\n",
    "            print(To_enable[2:4])\n",
    "            if(To_enable == '00'):\n",
    "                break\n",
    "            else:\n",
    "                ndiCommand(device, 'PENA:{}{}'.format(To_enable[2:4], 'D'))\n",
    "                print(\"Success:\")\n",
    "                print(ndiCommand(device, 'PHINF:{}{}'.format(To_enable[2:4], '0004')))\n",
    "                num_setup_complete += 1\n",
    "        else:\n",
    "            #There needs to be ports to be initialized\n",
    "            ndiCommand(device, 'PINIT:{}'.format(To_Initialized[2:4]))\n",
    "    else:\n",
    "        #ports need to be freed\n",
    "        print(\"free ports please\")"
   ]
  },
  {
   "cell_type": "code",
   "execution_count": 26,
   "id": "7f2a66f8",
   "metadata": {},
   "outputs": [
    {
     "name": "stdout",
     "output_type": "stream",
     "text": [
      "OKAY\n"
     ]
    }
   ],
   "source": [
    "reply4 = ndiCommand(device, 'TSTART:')\n",
    "print(reply4)"
   ]
  },
  {
   "cell_type": "code",
   "execution_count": 28,
   "id": "29aeec38",
   "metadata": {
    "scrolled": true
   },
   "outputs": [
    {
     "name": "stdout",
     "output_type": "stream",
     "text": [
      "020A+00083+02303+09730-00115+013641-004923-030312+013550002003F000178C6\n",
      "0B+00190-05956+08006+00618-003424-017684-006547+026020002003D000178C6\n",
      "0000\n"
     ]
    },
    {
     "ename": "KeyboardInterrupt",
     "evalue": "",
     "output_type": "error",
     "traceback": [
      "\u001b[1;31m---------------------------------------------------------------------------\u001b[0m",
      "\u001b[1;31mKeyboardInterrupt\u001b[0m                         Traceback (most recent call last)",
      "\u001b[1;32m<ipython-input-28-0b6b2f476250>\u001b[0m in \u001b[0;36m<module>\u001b[1;34m\u001b[0m\n\u001b[0;32m      1\u001b[0m \u001b[1;32mwhile\u001b[0m\u001b[1;33m(\u001b[0m\u001b[1;32mTrue\u001b[0m\u001b[1;33m)\u001b[0m\u001b[1;33m:\u001b[0m\u001b[1;33m\u001b[0m\u001b[1;33m\u001b[0m\u001b[0m\n\u001b[1;32m----> 2\u001b[1;33m     \u001b[0mreply5\u001b[0m \u001b[1;33m=\u001b[0m \u001b[0mndiCommand\u001b[0m\u001b[1;33m(\u001b[0m\u001b[0mdevice\u001b[0m\u001b[1;33m,\u001b[0m \u001b[1;34m'TX:'\u001b[0m\u001b[1;33m)\u001b[0m\u001b[1;33m\u001b[0m\u001b[1;33m\u001b[0m\u001b[0m\n\u001b[0m\u001b[0;32m      3\u001b[0m     \u001b[0mclear_output\u001b[0m\u001b[1;33m(\u001b[0m\u001b[0mwait\u001b[0m\u001b[1;33m=\u001b[0m\u001b[1;32mTrue\u001b[0m\u001b[1;33m)\u001b[0m\u001b[1;33m\u001b[0m\u001b[1;33m\u001b[0m\u001b[0m\n\u001b[0;32m      4\u001b[0m     \u001b[0mprint\u001b[0m\u001b[1;33m(\u001b[0m\u001b[0mreply5\u001b[0m\u001b[1;33m)\u001b[0m\u001b[1;33m\u001b[0m\u001b[1;33m\u001b[0m\u001b[0m\n\u001b[0;32m      5\u001b[0m \u001b[0mprint\u001b[0m\u001b[1;33m(\u001b[0m\u001b[0mlen\u001b[0m\u001b[1;33m(\u001b[0m\u001b[0mreply5\u001b[0m\u001b[1;33m)\u001b[0m\u001b[1;33m)\u001b[0m\u001b[1;33m\u001b[0m\u001b[1;33m\u001b[0m\u001b[0m\n",
      "\u001b[1;31mKeyboardInterrupt\u001b[0m: "
     ]
    }
   ],
   "source": [
    "while(True):\n",
    "    reply5 = ndiCommand(device, 'TX:')\n",
    "    clear_output(wait=True)\n",
    "    print(reply5)\n",
    "print(len(reply5))"
   ]
  },
  {
   "cell_type": "code",
   "execution_count": null,
   "id": "f11391f0",
   "metadata": {},
   "outputs": [],
   "source": [
    "reply = ndiCommand(device, 'TSTOP:') \n",
    "print(reply)"
   ]
  },
  {
   "cell_type": "markdown",
   "id": "295c1e9c",
   "metadata": {},
   "source": [
    "--- \n",
    "## Terminate Communication"
   ]
  },
  {
   "cell_type": "code",
   "execution_count": null,
   "id": "04f47a41",
   "metadata": {},
   "outputs": [],
   "source": [
    "ndiClose(device)"
   ]
  },
  {
   "cell_type": "markdown",
   "id": "7b60cb4e",
   "metadata": {},
   "source": [
    "--- \n",
    "## API commands\n",
    "Secret sauce #2: https://github.com/lara-unb/APIs-NDI-Digital/blob/master/Aurora_API_Guide.pdf"
   ]
  },
  {
   "cell_type": "code",
   "execution_count": null,
   "id": "5c7dfbd9",
   "metadata": {},
   "outputs": [],
   "source": [
    "pip install IPython"
   ]
  },
  {
   "cell_type": "code",
   "execution_count": null,
   "id": "ef6df019",
   "metadata": {},
   "outputs": [],
   "source": []
  }
 ],
 "metadata": {
  "kernelspec": {
   "display_name": "Python 3",
   "language": "python",
   "name": "python3"
  },
  "language_info": {
   "codemirror_mode": {
    "name": "ipython",
    "version": 3
   },
   "file_extension": ".py",
   "mimetype": "text/x-python",
   "name": "python",
   "nbconvert_exporter": "python",
   "pygments_lexer": "ipython3",
   "version": "3.8.8"
  }
 },
 "nbformat": 4,
 "nbformat_minor": 5
}
